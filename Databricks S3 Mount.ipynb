{
 "cells": [
  {
   "cell_type": "code",
   "execution_count": 0,
   "metadata": {
    "application/vnd.databricks.v1+cell": {
     "cellMetadata": {
      "byteLimit": 2048000,
      "rowLimit": 10000
     },
     "inputWidgets": {},
     "nuid": "a917db04-7fff-46db-874e-0c79075cd3d7",
     "showTitle": false,
     "title": ""
    }
   },
   "outputs": [
    {
     "output_type": "display_data",
     "data": {
      "text/html": [
       "<style scoped>\n",
       "  .table-result-container {\n",
       "    max-height: 300px;\n",
       "    overflow: auto;\n",
       "  }\n",
       "  table, th, td {\n",
       "    border: 1px solid black;\n",
       "    border-collapse: collapse;\n",
       "  }\n",
       "  th, td {\n",
       "    padding: 5px;\n",
       "  }\n",
       "  th {\n",
       "    text-align: left;\n",
       "  }\n",
       "</style><div class='table-result-container'><table class='table-result'><thead style='background-color: white'><tr><th>path</th><th>name</th><th>size</th><th>modificationTime</th></tr></thead><tbody><tr><td>dbfs:/FileStore/</td><td>FileStore/</td><td>0</td><td>1706015101203</td></tr><tr><td>dbfs:/Volume/</td><td>Volume/</td><td>0</td><td>0</td></tr><tr><td>dbfs:/Volumes/</td><td>Volumes/</td><td>0</td><td>0</td></tr><tr><td>dbfs:/_delta_log/</td><td>_delta_log/</td><td>0</td><td>1706015101203</td></tr><tr><td>dbfs:/checkpoint/</td><td>checkpoint/</td><td>0</td><td>1706015101203</td></tr><tr><td>dbfs:/custom/</td><td>custom/</td><td>0</td><td>1706015101203</td></tr><tr><td>dbfs:/databricks-datasets/</td><td>databricks-datasets/</td><td>0</td><td>0</td></tr><tr><td>dbfs:/databricks-results/</td><td>databricks-results/</td><td>0</td><td>0</td></tr><tr><td>dbfs:/delta/</td><td>delta/</td><td>0</td><td>1706015101203</td></tr><tr><td>dbfs:/df_pin.csv/</td><td>df_pin.csv/</td><td>0</td><td>1706015101203</td></tr><tr><td>dbfs:/df_pin.parquet/</td><td>df_pin.parquet/</td><td>0</td><td>1706015101203</td></tr><tr><td>dbfs:/geo_dirty.csv/</td><td>geo_dirty.csv/</td><td>0</td><td>1706015101203</td></tr><tr><td>dbfs:/local_disk0/</td><td>local_disk0/</td><td>0</td><td>1706015101203</td></tr><tr><td>dbfs:/mnt/</td><td>mnt/</td><td>0</td><td>1706015101203</td></tr><tr><td>dbfs:/mount/</td><td>mount/</td><td>0</td><td>1706015101203</td></tr><tr><td>dbfs:/output/</td><td>output/</td><td>0</td><td>1706015101203</td></tr><tr><td>dbfs:/part-00000-ba1b6f69-9949-415d-bb6a-5a1508e01a03-c000.snappy.parquet</td><td>part-00000-ba1b6f69-9949-415d-bb6a-5a1508e01a03-c000.snappy.parquet</td><td>56926</td><td>1704218332000</td></tr><tr><td>dbfs:/part-00001-f866f5d9-a692-4a3f-bf3a-a72ca8bfcb3e-c000.snappy.parquet</td><td>part-00001-f866f5d9-a692-4a3f-bf3a-a72ca8bfcb3e-c000.snappy.parquet</td><td>55704</td><td>1704218326000</td></tr><tr><td>dbfs:/part-00002-e5265761-3c6b-475c-9e6a-5ba024c22cf6-c000.snappy.parquet</td><td>part-00002-e5265761-3c6b-475c-9e6a-5ba024c22cf6-c000.snappy.parquet</td><td>51782</td><td>1704218333000</td></tr><tr><td>dbfs:/part-00003-4e844537-6130-4248-9013-08d6578956ae-c000.snappy.parquet</td><td>part-00003-4e844537-6130-4248-9013-08d6578956ae-c000.snappy.parquet</td><td>50751</td><td>1704218327000</td></tr><tr><td>dbfs:/part-00004-c771fa60-0080-4195-8cb3-1de28d24fa67-c000.snappy.parquet</td><td>part-00004-c771fa60-0080-4195-8cb3-1de28d24fa67-c000.snappy.parquet</td><td>48696</td><td>1704218328000</td></tr><tr><td>dbfs:/part-00005-0b818998-0f95-45cf-acd2-ef1ad0d827fc-c000.snappy.parquet</td><td>part-00005-0b818998-0f95-45cf-acd2-ef1ad0d827fc-c000.snappy.parquet</td><td>46856</td><td>1704218337000</td></tr><tr><td>dbfs:/part-00006-a2f8839b-3081-4672-8f08-e79733f6307d-c000.snappy.parquet</td><td>part-00006-a2f8839b-3081-4672-8f08-e79733f6307d-c000.snappy.parquet</td><td>44037</td><td>1704218330000</td></tr><tr><td>dbfs:/part-00007-4a946295-63c9-40ac-b687-7af02b94a99c-c000.snappy.parquet</td><td>part-00007-4a946295-63c9-40ac-b687-7af02b94a99c-c000.snappy.parquet</td><td>39491</td><td>1704218332000</td></tr><tr><td>dbfs:/part-00008-2c16e39c-cd9d-44eb-b002-db6eb4f5bb0f-c000.snappy.parquet</td><td>part-00008-2c16e39c-cd9d-44eb-b002-db6eb4f5bb0f-c000.snappy.parquet</td><td>14239</td><td>1704218332000</td></tr><tr><td>dbfs:/pin_dirty.csv/</td><td>pin_dirty.csv/</td><td>0</td><td>1706015101203</td></tr><tr><td>dbfs:/pin_kinesis_events/</td><td>pin_kinesis_events/</td><td>0</td><td>1706015101203</td></tr><tr><td>dbfs:/tmp/</td><td>tmp/</td><td>0</td><td>1706015101203</td></tr><tr><td>dbfs:/user/</td><td>user/</td><td>0</td><td>1706015101203</td></tr><tr><td>dbfs:/user_dirty.csv/</td><td>user_dirty.csv/</td><td>0</td><td>1706015101203</td></tr><tr><td>dbfs:/volume/</td><td>volume/</td><td>0</td><td>0</td></tr><tr><td>dbfs:/volumes/</td><td>volumes/</td><td>0</td><td>0</td></tr><tr><td>dbfs:/your_delta_table_path/</td><td>your_delta_table_path/</td><td>0</td><td>1706015101203</td></tr></tbody></table></div>"
      ]
     },
     "metadata": {
      "application/vnd.databricks.v1+output": {
       "addedWidgets": {},
       "aggData": [],
       "aggError": "",
       "aggOverflow": false,
       "aggSchema": [],
       "aggSeriesLimitReached": false,
       "aggType": "",
       "arguments": {},
       "columnCustomDisplayInfos": {},
       "data": [
        [
         "dbfs:/FileStore/",
         "FileStore/",
         0,
         1706015101203
        ],
        [
         "dbfs:/Volume/",
         "Volume/",
         0,
         0
        ],
        [
         "dbfs:/Volumes/",
         "Volumes/",
         0,
         0
        ],
        [
         "dbfs:/_delta_log/",
         "_delta_log/",
         0,
         1706015101203
        ],
        [
         "dbfs:/checkpoint/",
         "checkpoint/",
         0,
         1706015101203
        ],
        [
         "dbfs:/custom/",
         "custom/",
         0,
         1706015101203
        ],
        [
         "dbfs:/databricks-datasets/",
         "databricks-datasets/",
         0,
         0
        ],
        [
         "dbfs:/databricks-results/",
         "databricks-results/",
         0,
         0
        ],
        [
         "dbfs:/delta/",
         "delta/",
         0,
         1706015101203
        ],
        [
         "dbfs:/df_pin.csv/",
         "df_pin.csv/",
         0,
         1706015101203
        ],
        [
         "dbfs:/df_pin.parquet/",
         "df_pin.parquet/",
         0,
         1706015101203
        ],
        [
         "dbfs:/geo_dirty.csv/",
         "geo_dirty.csv/",
         0,
         1706015101203
        ],
        [
         "dbfs:/local_disk0/",
         "local_disk0/",
         0,
         1706015101203
        ],
        [
         "dbfs:/mnt/",
         "mnt/",
         0,
         1706015101203
        ],
        [
         "dbfs:/mount/",
         "mount/",
         0,
         1706015101203
        ],
        [
         "dbfs:/output/",
         "output/",
         0,
         1706015101203
        ],
        [
         "dbfs:/part-00000-ba1b6f69-9949-415d-bb6a-5a1508e01a03-c000.snappy.parquet",
         "part-00000-ba1b6f69-9949-415d-bb6a-5a1508e01a03-c000.snappy.parquet",
         56926,
         1704218332000
        ],
        [
         "dbfs:/part-00001-f866f5d9-a692-4a3f-bf3a-a72ca8bfcb3e-c000.snappy.parquet",
         "part-00001-f866f5d9-a692-4a3f-bf3a-a72ca8bfcb3e-c000.snappy.parquet",
         55704,
         1704218326000
        ],
        [
         "dbfs:/part-00002-e5265761-3c6b-475c-9e6a-5ba024c22cf6-c000.snappy.parquet",
         "part-00002-e5265761-3c6b-475c-9e6a-5ba024c22cf6-c000.snappy.parquet",
         51782,
         1704218333000
        ],
        [
         "dbfs:/part-00003-4e844537-6130-4248-9013-08d6578956ae-c000.snappy.parquet",
         "part-00003-4e844537-6130-4248-9013-08d6578956ae-c000.snappy.parquet",
         50751,
         1704218327000
        ],
        [
         "dbfs:/part-00004-c771fa60-0080-4195-8cb3-1de28d24fa67-c000.snappy.parquet",
         "part-00004-c771fa60-0080-4195-8cb3-1de28d24fa67-c000.snappy.parquet",
         48696,
         1704218328000
        ],
        [
         "dbfs:/part-00005-0b818998-0f95-45cf-acd2-ef1ad0d827fc-c000.snappy.parquet",
         "part-00005-0b818998-0f95-45cf-acd2-ef1ad0d827fc-c000.snappy.parquet",
         46856,
         1704218337000
        ],
        [
         "dbfs:/part-00006-a2f8839b-3081-4672-8f08-e79733f6307d-c000.snappy.parquet",
         "part-00006-a2f8839b-3081-4672-8f08-e79733f6307d-c000.snappy.parquet",
         44037,
         1704218330000
        ],
        [
         "dbfs:/part-00007-4a946295-63c9-40ac-b687-7af02b94a99c-c000.snappy.parquet",
         "part-00007-4a946295-63c9-40ac-b687-7af02b94a99c-c000.snappy.parquet",
         39491,
         1704218332000
        ],
        [
         "dbfs:/part-00008-2c16e39c-cd9d-44eb-b002-db6eb4f5bb0f-c000.snappy.parquet",
         "part-00008-2c16e39c-cd9d-44eb-b002-db6eb4f5bb0f-c000.snappy.parquet",
         14239,
         1704218332000
        ],
        [
         "dbfs:/pin_dirty.csv/",
         "pin_dirty.csv/",
         0,
         1706015101203
        ],
        [
         "dbfs:/pin_kinesis_events/",
         "pin_kinesis_events/",
         0,
         1706015101203
        ],
        [
         "dbfs:/tmp/",
         "tmp/",
         0,
         1706015101203
        ],
        [
         "dbfs:/user/",
         "user/",
         0,
         1706015101203
        ],
        [
         "dbfs:/user_dirty.csv/",
         "user_dirty.csv/",
         0,
         1706015101203
        ],
        [
         "dbfs:/volume/",
         "volume/",
         0,
         0
        ],
        [
         "dbfs:/volumes/",
         "volumes/",
         0,
         0
        ],
        [
         "dbfs:/your_delta_table_path/",
         "your_delta_table_path/",
         0,
         1706015101203
        ]
       ],
       "datasetInfos": [],
       "dbfsResultPath": null,
       "isJsonSchema": true,
       "metadata": {},
       "overflow": false,
       "plotOptions": {
        "customPlotOptions": {},
        "displayType": "table",
        "pivotAggregation": null,
        "pivotColumns": null,
        "xColumns": null,
        "yColumns": null
       },
       "removedWidgets": [],
       "schema": [
        {
         "metadata": "{}",
         "name": "path",
         "type": "\"string\""
        },
        {
         "metadata": "{}",
         "name": "name",
         "type": "\"string\""
        },
        {
         "metadata": "{}",
         "name": "size",
         "type": "\"long\""
        },
        {
         "metadata": "{}",
         "name": "modificationTime",
         "type": "\"long\""
        }
       ],
       "type": "table"
      }
     },
     "output_type": "display_data"
    }
   ],
   "source": [
    "from pyspark.sql.functions import *\n",
    "import urllib"
   ]
  },
  {
   "cell_type": "code",
   "execution_count": 0,
   "metadata": {
    "application/vnd.databricks.v1+cell": {
     "cellMetadata": {},
     "inputWidgets": {},
     "nuid": "db088a32-bbcb-4fa7-8537-cba7ae8ffad3",
     "showTitle": false,
     "title": ""
    }
   },
   "outputs": [],
   "source": [
    "# Define the path to the Delta table\n",
    "delta_table_path = \"dbfs:/user/hive/warehouse/authentication_credentials\"\n",
    "# Read the Delta table to a Spark DataFrame\n",
    "aws_keys_df = spark.read.format(\"delta\").load(delta_table_path)"
   ]
  },
  {
   "cell_type": "code",
   "execution_count": 0,
   "metadata": {
    "application/vnd.databricks.v1+cell": {
     "cellMetadata": {},
     "inputWidgets": {},
     "nuid": "6ae97dce-0eec-46b5-a125-b42c55481994",
     "showTitle": false,
     "title": ""
    }
   },
   "outputs": [],
   "source": [
    "# Get the AWS access key and secret key from the spark dataframe\n",
    "ACCESS_KEY = aws_keys_df.select('Access key ID').collect()[0]['Access key ID']\n",
    "SECRET_KEY = aws_keys_df.select('Secret access key').collect()[0]['Secret access key']\n",
    "# Encode the secrete key\n",
    "ENCODED_SECRET_KEY = urllib.parse.quote(string=SECRET_KEY, safe=\"\")"
   ]
  },
  {
   "cell_type": "code",
   "execution_count": 0,
   "metadata": {
    "application/vnd.databricks.v1+cell": {
     "cellMetadata": {},
     "inputWidgets": {},
     "nuid": "a054a102-9b51-4bd4-a4e1-411b8eaa2f86",
     "showTitle": false,
     "title": ""
    }
   },
   "outputs": [],
   "source": [
    "# AWS S3 bucket name\n",
    "AWS_S3_BUCKET = \"user-12863e427a8f-bucket\"\n",
    "# Mount name for the bucket\n",
    "MOUNT_NAME = \"/mnt/Nathan_12863e427a8f\"\n",
    "# Source url\n",
    "SOURCE_URL = \"s3n://{0}:{1}@{2}\".format(ACCESS_KEY, ENCODED_SECRET_KEY, AWS_S3_BUCKET)\n",
    "# Mount the drive\n",
    "dbutils.fs.mount(SOURCE_URL, MOUNT_NAME)"
   ]
  },
  {
   "cell_type": "code",
   "execution_count": 0,
   "metadata": {
    "application/vnd.databricks.v1+cell": {
     "cellMetadata": {},
     "inputWidgets": {},
     "nuid": "93dae340-41b8-457e-a74e-f532a7adfc7a",
     "showTitle": false,
     "title": ""
    }
   },
   "outputs": [],
   "source": [
    "display(dbutils.fs.ls(\"/mnt/Nathan_12863e427a8f/../..\"))"
   ]
  }
 ],
 "metadata": {
  "application/vnd.databricks.v1+notebook": {
   "dashboards": [],
   "language": "python",
   "notebookMetadata": {
    "pythonIndentUnit": 4
   },
   "notebookName": "Databricks S3 Mount",
   "widgets": {}
  }
 },
 "nbformat": 4,
 "nbformat_minor": 0
}
